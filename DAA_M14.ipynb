{
  "nbformat": 4,
  "nbformat_minor": 0,
  "metadata": {
    "colab": {
      "provenance": []
    },
    "kernelspec": {
      "name": "python3",
      "display_name": "Python 3"
    },
    "language_info": {
      "name": "python"
    }
  },
  "cells": [
    {
      "cell_type": "code",
      "execution_count": 1,
      "metadata": {
        "id": "tXSDoWAWNUGc"
      },
      "outputs": [],
      "source": [
        "import networkx as nx\n",
        "import matplotlib.pyplot as plt"
      ]
    },
    {
      "cell_type": "code",
      "source": [
        "vertices = range(1, 10)\n",
        "edges = {(7, 2), (2, 3), (4, 5), (7, 3), (7, 5), (1, 6), (1, 7), (2, 8), (2, 9)}"
      ],
      "metadata": {
        "id": "DeJ8ikvbNgaS"
      },
      "execution_count": 2,
      "outputs": []
    },
    {
      "cell_type": "code",
      "source": [
        "G = nx.Graph()"
      ],
      "metadata": {
        "id": "H5DU2ZWtNhut"
      },
      "execution_count": 3,
      "outputs": []
    },
    {
      "cell_type": "code",
      "source": [
        "G.add_nodes_from(vertices)\n",
        "G.add_edges_from(edges)\n",
        "pos = nx.spring_layout(G)"
      ],
      "metadata": {
        "id": "vGLIGJpuNqwj"
      },
      "execution_count": 4,
      "outputs": []
    },
    {
      "cell_type": "code",
      "source": [
        "nx.draw_networkx_nodes(G, pos, \n",
        "                       nodelist={1, 4, 3, 8, 9},\n",
        "                       node_color='g',\n",
        "                       node_size=1300)"
      ],
      "metadata": {
        "colab": {
          "base_uri": "https://localhost:8080/",
          "height": 265
        },
        "id": "GCo14tgmNsFP",
        "outputId": "ec462e8d-34df-43f6-a546-6da18b148fa1"
      },
      "execution_count": 5,
      "outputs": [
        {
          "output_type": "execute_result",
          "data": {
            "text/plain": [
              "<matplotlib.collections.PathCollection at 0x7f88501eff50>"
            ]
          },
          "metadata": {},
          "execution_count": 5
        },
        {
          "output_type": "display_data",
          "data": {
            "text/plain": [
              "<Figure size 432x288 with 1 Axes>"
            ],
            "image/png": "[encoded data removed]"
          },
          "metadata": {}
        }
      ]
    },
    {
      "cell_type": "code",
      "source": [
        "nx.draw_networkx_nodes(G, pos,\n",
        "                       nodelist={2, 5, 6, 7}, \n",
        "                       node_color='r',\n",
        "                       node_size=1300)"
      ],
      "metadata": {
        "colab": {
          "base_uri": "https://localhost:8080/",
          "height": 265
        },
        "id": "bszFYctbNzQh",
        "outputId": "57b7de81-f38d-4e00-e60c-102336ec2140"
      },
      "execution_count": 6,
      "outputs": [
        {
          "output_type": "execute_result",
          "data": {
            "text/plain": [
              "<matplotlib.collections.PathCollection at 0x7f88501ee310>"
            ]
          },
          "metadata": {},
          "execution_count": 6
        },
        {
          "output_type": "display_data",
          "data": {
            "text/plain": [
              "<Figure size 432x288 with 1 Axes>"
            ],
            "image/png": "[encoded data removed]"
          },
          "metadata": {}
        }
      ]
    },
    {
      "cell_type": "code",
      "source": [
        "nx.draw_networkx_edges(G, pos, edges, width=3, alpha=0.5,edge_color='b')\n",
        "labels = {}\n",
        "labels[1] = r'1 NF'\n",
        "labels[2] = r'2 F'\n",
        "labels[3] = r'3 NF'\n",
        "labels[4] = r'4 NF'\n",
        "labels[5] = r'5 F'\n",
        "labels[6] = r'6 F'\n",
        "labels[7] = r'7 F'\n",
        "labels[8] = r'8 NF'\n",
        "labels[9] = r'9 NF'\n",
        "\n",
        "nx.draw_networkx_labels(G, pos, labels, font_size=16)"
      ],
      "metadata": {
        "colab": {
          "base_uri": "https://localhost:8080/",
          "height": 404
        },
        "id": "d7tvQlP4N71K",
        "outputId": "eaacf437-acd9-4f39-b612-cd1d3c485e0f"
      },
      "execution_count": 7,
      "outputs": [
        {
          "output_type": "execute_result",
          "data": {
            "text/plain": [
              "{1: Text(-0.5284790338296028, -0.410902646249183, '1 NF'),\n",
              " 2: Text(0.12599548224897106, 0.5214822967345892, '2 F'),\n",
              " 3: Text(-0.11820568802051881, 0.27921491884280536, '3 NF'),\n",
              " 4: Text(0.6273782083945753, -0.9127686851375213, '4 NF'),\n",
              " 5: Text(0.33372310264741656, -0.5471216584148496, '5 F'),\n",
              " 6: Text(-0.9257834689040637, -0.6590453773502166, '6 F'),\n",
              " 7: Text(-0.03139293062056474, -0.09083763682494102, '7 F'),\n",
              " 8: Text(0.005765892692251235, 1.0, '8 NF'),\n",
              " 9: Text(0.5109984353915357, 0.8199787883993165, '9 NF')}"
            ]
          },
          "metadata": {},
          "execution_count": 7
        },
        {
          "output_type": "display_data",
          "data": {
            "text/plain": [
              "<Figure size 432x288 with 1 Axes>"
            ],
            "image/png": "[encoded data removed]"
          },
          "metadata": {}
        }
      ]
    }
  ]
}