{
  "nbformat": 4,
  "nbformat_minor": 0,
  "metadata": {
    "colab": {
      "provenance": []
    },
    "kernelspec": {
      "name": "python3",
      "display_name": "Python 3"
    },
    "language_info": {
      "name": "python"
    }
  },
  "cells": [
    {
      "cell_type": "code",
      "execution_count": 5,
      "metadata": {
        "id": "ObtGPD3D_MmQ"
      },
      "outputs": [],
      "source": [
        "def bfs(graph, start):\n",
        "    visited = []\n",
        "    queue = [start]\n",
        "\n",
        "    while queue:\n",
        "        node = queue.pop(0)\n",
        "        if node not in visited:\n",
        "            visited.append(node)\n",
        "            neighbours = graph[node]\n",
        "            for neighbour in neighbours:\n",
        "                queue.append(neighbour)\n",
        "    return visited"
      ]
    },
    {
      "cell_type": "code",
      "source": [
        "graph={ 'Amin' : {'Wasim', 'Nick', 'Mike'},\n",
        "         'Wasim' : {'Imran', 'Amin'},\n",
        "         'Imran' : {'Wasim', 'Faras'},\n",
        "         'Faras' : {'Imran'},\n",
        "         'Mike'  : {'Amin'},\n",
        "         'Nick'  : {'Amin'}}"
      ],
      "metadata": {
        "id": "n4JTnkc2AXiX"
      },
      "execution_count": 6,
      "outputs": []
    },
    {
      "cell_type": "code",
      "source": [
        "bfs(graph,'Amin')"
      ],
      "metadata": {
        "colab": {
          "base_uri": "https://localhost:8080/"
        },
        "id": "pdTkzx13CgXy",
        "outputId": "d00eff7e-2062-40bd-a410-eedc99313b61"
      },
      "execution_count": 7,
      "outputs": [
        {
          "output_type": "execute_result",
          "data": {
            "text/plain": [
              "['Amin', 'Wasim', 'Mike', 'Nick', 'Imran', 'Faras']"
            ]
          },
          "metadata": {},
          "execution_count": 7
        }
      ]
    },
    {
      "cell_type": "code",
      "source": [
        "# O amin_ _ _ _ _ _ _ _ _ _ _\n",
        "# |           |             |\n",
        "# O wasim     O nick        O mike\n",
        "# | \n",
        "# O imran\n",
        "# |\n",
        "# O faras\n",
        "\n",
        "bfs(graph, 'Amin')"
      ],
      "metadata": {
        "colab": {
          "base_uri": "https://localhost:8080/"
        },
        "id": "LGN0u7bCDMVT",
        "outputId": "60789dda-8e1d-4cf8-915f-314c206e4575"
      },
      "execution_count": 8,
      "outputs": [
        {
          "output_type": "execute_result",
          "data": {
            "text/plain": [
              "['Amin', 'Wasim', 'Mike', 'Nick', 'Imran', 'Faras']"
            ]
          },
          "metadata": {},
          "execution_count": 8
        }
      ]
    },
    {
      "cell_type": "code",
      "source": [
        "# O wasim _ _ _ _\n",
        "# |            |\n",
        "# O imran      O  amin_ _ _ _ \n",
        "# |            |            |\n",
        "# O faras      O nick       O mike\n",
        "\n",
        "bfs(graph, 'Wasim')"
      ],
      "metadata": {
        "colab": {
          "base_uri": "https://localhost:8080/"
        },
        "id": "P-Qizs4bEMq9",
        "outputId": "9b098824-e035-4ff7-90c6-f5b27cb6bede"
      },
      "execution_count": 9,
      "outputs": [
        {
          "output_type": "execute_result",
          "data": {
            "text/plain": [
              "['Wasim', 'Imran', 'Amin', 'Faras', 'Mike', 'Nick']"
            ]
          },
          "metadata": {},
          "execution_count": 9
        }
      ]
    },
    {
      "cell_type": "code",
      "source": [
        "# O faras\n",
        "# | \n",
        "# O imran\n",
        "# |\n",
        "# O wasim       O nick      O mike\n",
        "# |             |           |\n",
        "# O amin _ _ _ _ _ _ _ _ _ _ \n",
        "\n",
        "bfs(graph, 'Faras')"
      ],
      "metadata": {
        "colab": {
          "base_uri": "https://localhost:8080/"
        },
        "id": "yA-m11ZAE0jL",
        "outputId": "078b0dee-547c-4e89-afa5-a4ef6c748932"
      },
      "execution_count": 11,
      "outputs": [
        {
          "output_type": "execute_result",
          "data": {
            "text/plain": [
              "['Faras', 'Imran', 'Wasim', 'Amin', 'Mike', 'Nick']"
            ]
          },
          "metadata": {},
          "execution_count": 11
        }
      ]
    },
    {
      "cell_type": "code",
      "source": [
        "graph={ 'Rektor' : {'Warek 1', 'Warek 2'},\n",
        "        'Warek 1' : {'Rektor'},\n",
        "        'Warek 2' : {'Kaprodi 1', 'Kaprodi 2', 'Kaprodi 3'},\n",
        "        'Kaprodi 1' : {'Dosen A', 'Dosen B', 'Dosen C'},\n",
        "        'Kaprodi 2' : {'Dosen D', 'Dosen E'},\n",
        "        'Kaprodi 3' : {'Dosen F', 'Dosen G'},\n",
        "        'Dosen A' : {'Kaprodi 1', 'Dosen B'},\n",
        "        'Dosen B' : {'Dosen A', 'Dosen C'},\n",
        "        'Dosen C' : {'Dosen B'},\n",
        "        'Dosen D' : {'Kaprodi 2', 'Dosen E'},\n",
        "        'Dosen E' : {'Dosen D'},\n",
        "        'Dosen F' : {'Kaprodi 3', 'Dosen F'},\n",
        "        'Dosen G' : {'Dosen F'}}"
      ],
      "metadata": {
        "id": "Ysi9KuwEHmHQ"
      },
      "execution_count": 20,
      "outputs": []
    },
    {
      "cell_type": "code",
      "source": [
        "bfs(graph, 'Rektor')"
      ],
      "metadata": {
        "colab": {
          "base_uri": "https://localhost:8080/"
        },
        "id": "WIIVfz6vMcW7",
        "outputId": "b0d2062f-1b50-43a1-a885-afd34d3e6bd2"
      },
      "execution_count": 21,
      "outputs": [
        {
          "output_type": "execute_result",
          "data": {
            "text/plain": [
              "['Rektor',\n",
              " 'Warek 1',\n",
              " 'Warek 2',\n",
              " 'Kaprodi 2',\n",
              " 'Kaprodi 3',\n",
              " 'Kaprodi 1',\n",
              " 'Dosen E',\n",
              " 'Dosen D',\n",
              " 'Dosen F',\n",
              " 'Dosen G',\n",
              " 'Dosen C',\n",
              " 'Dosen B',\n",
              " 'Dosen A']"
            ]
          },
          "metadata": {},
          "execution_count": 21
        }
      ]
    },
    {
      "cell_type": "code",
      "source": [
        "bfs(graph, 'Warek 1')"
      ],
      "metadata": {
        "colab": {
          "base_uri": "https://localhost:8080/"
        },
        "id": "yKWUqZdWQZTh",
        "outputId": "56ac9974-9f2d-4ee0-92d2-13e016d56ecc"
      },
      "execution_count": 22,
      "outputs": [
        {
          "output_type": "execute_result",
          "data": {
            "text/plain": [
              "['Warek 1',\n",
              " 'Rektor',\n",
              " 'Warek 2',\n",
              " 'Kaprodi 2',\n",
              " 'Kaprodi 3',\n",
              " 'Kaprodi 1',\n",
              " 'Dosen E',\n",
              " 'Dosen D',\n",
              " 'Dosen F',\n",
              " 'Dosen G',\n",
              " 'Dosen C',\n",
              " 'Dosen B',\n",
              " 'Dosen A']"
            ]
          },
          "metadata": {},
          "execution_count": 22
        }
      ]
    },
    {
      "cell_type": "code",
      "source": [
        "def dfs(graph, start, visited=None):\n",
        "    if visited is None:\n",
        "        visited = set()\n",
        "    visited.add(start)\n",
        "    print(start)\n",
        "    for next in graph[start] - visited:\n",
        "         dfs(graph, next, visited)\n",
        "    return visited"
      ],
      "metadata": {
        "id": "PIdknDicRsX_"
      },
      "execution_count": 23,
      "outputs": []
    },
    {
      "cell_type": "code",
      "source": [
        "graph={ 'Amin' : {'Wasim', 'Nick', 'Mike'},\n",
        "         'Wasim' : {'Imran', 'Amin'},\n",
        "         'Imran' : {'Wasim', 'Faras'},\n",
        "         'Faras' : {'Imran'},\n",
        "         'Mike' :{'Amin'},\n",
        "         'Nick' :{'Amin'}}"
      ],
      "metadata": {
        "id": "cCdufq2ISemd"
      },
      "execution_count": 26,
      "outputs": []
    },
    {
      "cell_type": "code",
      "source": [
        "dfs(graph, 'Amin')"
      ],
      "metadata": {
        "colab": {
          "base_uri": "https://localhost:8080/"
        },
        "id": "XDMkhGMQTXUR",
        "outputId": "f8df2b25-c999-492a-b483-b05e8896cf54"
      },
      "execution_count": 28,
      "outputs": [
        {
          "output_type": "stream",
          "name": "stdout",
          "text": [
            "Amin\n",
            "Wasim\n",
            "Imran\n",
            "Faras\n",
            "Mike\n",
            "Nick\n"
          ]
        },
        {
          "output_type": "execute_result",
          "data": {
            "text/plain": [
              "{'Amin', 'Faras', 'Imran', 'Mike', 'Nick', 'Wasim'}"
            ]
          },
          "metadata": {},
          "execution_count": 28
        }
      ]
    },
    {
      "cell_type": "code",
      "source": [
        "dfs(graph, 'Wasim')"
      ],
      "metadata": {
        "colab": {
          "base_uri": "https://localhost:8080/"
        },
        "id": "TyYVQCcOTmDM",
        "outputId": "d7089f1e-5235-4986-80f6-be5d09a82031"
      },
      "execution_count": 29,
      "outputs": [
        {
          "output_type": "stream",
          "name": "stdout",
          "text": [
            "Wasim\n",
            "Imran\n",
            "Faras\n",
            "Amin\n",
            "Mike\n",
            "Nick\n"
          ]
        },
        {
          "output_type": "execute_result",
          "data": {
            "text/plain": [
              "{'Amin', 'Faras', 'Imran', 'Mike', 'Nick', 'Wasim'}"
            ]
          },
          "metadata": {},
          "execution_count": 29
        }
      ]
    },
    {
      "cell_type": "code",
      "source": [
        "dfs(graph, 'Faras')"
      ],
      "metadata": {
        "colab": {
          "base_uri": "https://localhost:8080/"
        },
        "id": "Md3JhGgnT2iB",
        "outputId": "ddcccdfa-4a99-4f95-c869-b454a6b7ed0a"
      },
      "execution_count": 30,
      "outputs": [
        {
          "output_type": "stream",
          "name": "stdout",
          "text": [
            "Faras\n",
            "Imran\n",
            "Wasim\n",
            "Amin\n",
            "Mike\n",
            "Nick\n"
          ]
        },
        {
          "output_type": "execute_result",
          "data": {
            "text/plain": [
              "{'Amin', 'Faras', 'Imran', 'Mike', 'Nick', 'Wasim'}"
            ]
          },
          "metadata": {},
          "execution_count": 30
        }
      ]
    },
    {
      "cell_type": "code",
      "source": [
        "dfs(graph, 'Nick')"
      ],
      "metadata": {
        "colab": {
          "base_uri": "https://localhost:8080/"
        },
        "id": "hPm5OTUfUBRU",
        "outputId": "1aeef94b-5555-4ba2-d970-330287a478a1"
      },
      "execution_count": 31,
      "outputs": [
        {
          "output_type": "stream",
          "name": "stdout",
          "text": [
            "Nick\n",
            "Amin\n",
            "Wasim\n",
            "Imran\n",
            "Faras\n",
            "Mike\n"
          ]
        },
        {
          "output_type": "execute_result",
          "data": {
            "text/plain": [
              "{'Amin', 'Faras', 'Imran', 'Mike', 'Nick', 'Wasim'}"
            ]
          },
          "metadata": {},
          "execution_count": 31
        }
      ]
    },
    {
      "cell_type": "code",
      "source": [
        "graph={ 'Rektor' : {'Warek 1', 'Warek 2'},\n",
        "        'Warek 1' : {'Rektor'},\n",
        "        'Warek 2' : {'Kaprodi 1', 'Kaprodi 2', 'Kaprodi 3'},\n",
        "        'Kaprodi 1' : {'Dosen A', 'Dosen B', 'Dosen C'},\n",
        "        'Kaprodi 2' : {'Dosen D', 'Dosen E'},\n",
        "        'Kaprodi 3' : {'Dosen F', 'Dosen G'},\n",
        "        'Dosen A' : {'Kaprodi 1', 'Dosen B'},\n",
        "        'Dosen B' : {'Dosen A', 'Dosen C'},\n",
        "        'Dosen C' : {'Dosen B'},\n",
        "        'Dosen D' : {'Kaprodi 2', 'Dosen E'},\n",
        "        'Dosen E' : {'Dosen D'},\n",
        "        'Dosen F' : {'Kaprodi 3', 'Dosen F'},\n",
        "        'Dosen G' : {'Dosen F'}}"
      ],
      "metadata": {
        "id": "H4loh9YjUUQJ"
      },
      "execution_count": 33,
      "outputs": []
    },
    {
      "cell_type": "code",
      "source": [
        "dfs(graph, 'Rektor')"
      ],
      "metadata": {
        "colab": {
          "base_uri": "https://localhost:8080/"
        },
        "id": "kruZhIvyUXt5",
        "outputId": "a9559862-44a3-4cb3-806c-6d4a59d12cf6"
      },
      "execution_count": 34,
      "outputs": [
        {
          "output_type": "stream",
          "name": "stdout",
          "text": [
            "Rektor\n",
            "Warek 1\n",
            "Warek 2\n",
            "Kaprodi 2\n",
            "Dosen E\n",
            "Dosen D\n",
            "Dosen D\n",
            "Kaprodi 3\n",
            "Dosen F\n",
            "Dosen G\n",
            "Kaprodi 1\n",
            "Dosen C\n",
            "Dosen B\n",
            "Dosen A\n",
            "Dosen B\n",
            "Dosen A\n"
          ]
        },
        {
          "output_type": "execute_result",
          "data": {
            "text/plain": [
              "{'Dosen A',\n",
              " 'Dosen B',\n",
              " 'Dosen C',\n",
              " 'Dosen D',\n",
              " 'Dosen E',\n",
              " 'Dosen F',\n",
              " 'Dosen G',\n",
              " 'Kaprodi 1',\n",
              " 'Kaprodi 2',\n",
              " 'Kaprodi 3',\n",
              " 'Rektor',\n",
              " 'Warek 1',\n",
              " 'Warek 2'}"
            ]
          },
          "metadata": {},
          "execution_count": 34
        }
      ]
    },
    {
      "cell_type": "code",
      "source": [
        "dfs(graph, 'Warek 1')"
      ],
      "metadata": {
        "colab": {
          "base_uri": "https://localhost:8080/"
        },
        "id": "PY-SmPS9V8ny",
        "outputId": "55988a63-f9be-4a8c-e0b9-38dd222cd6bd"
      },
      "execution_count": 35,
      "outputs": [
        {
          "output_type": "stream",
          "name": "stdout",
          "text": [
            "Warek 1\n",
            "Rektor\n",
            "Warek 2\n",
            "Kaprodi 2\n",
            "Dosen E\n",
            "Dosen D\n",
            "Dosen D\n",
            "Kaprodi 3\n",
            "Dosen F\n",
            "Dosen G\n",
            "Kaprodi 1\n",
            "Dosen C\n",
            "Dosen B\n",
            "Dosen A\n",
            "Dosen B\n",
            "Dosen A\n"
          ]
        },
        {
          "output_type": "execute_result",
          "data": {
            "text/plain": [
              "{'Dosen A',\n",
              " 'Dosen B',\n",
              " 'Dosen C',\n",
              " 'Dosen D',\n",
              " 'Dosen E',\n",
              " 'Dosen F',\n",
              " 'Dosen G',\n",
              " 'Kaprodi 1',\n",
              " 'Kaprodi 2',\n",
              " 'Kaprodi 3',\n",
              " 'Rektor',\n",
              " 'Warek 1',\n",
              " 'Warek 2'}"
            ]
          },
          "metadata": {},
          "execution_count": 35
        }
      ]
    },
    {
      "cell_type": "code",
      "source": [
        "dfs(graph, 'Warek 2')"
      ],
      "metadata": {
        "colab": {
          "base_uri": "https://localhost:8080/"
        },
        "id": "1KRWhTXWWFuz",
        "outputId": "905236ba-160b-4e4a-f9fa-5fd9c9ce170a"
      },
      "execution_count": 36,
      "outputs": [
        {
          "output_type": "stream",
          "name": "stdout",
          "text": [
            "Warek 2\n",
            "Kaprodi 2\n",
            "Dosen E\n",
            "Dosen D\n",
            "Dosen D\n",
            "Kaprodi 3\n",
            "Dosen F\n",
            "Dosen G\n",
            "Kaprodi 1\n",
            "Dosen C\n",
            "Dosen B\n",
            "Dosen A\n",
            "Dosen B\n",
            "Dosen A\n"
          ]
        },
        {
          "output_type": "execute_result",
          "data": {
            "text/plain": [
              "{'Dosen A',\n",
              " 'Dosen B',\n",
              " 'Dosen C',\n",
              " 'Dosen D',\n",
              " 'Dosen E',\n",
              " 'Dosen F',\n",
              " 'Dosen G',\n",
              " 'Kaprodi 1',\n",
              " 'Kaprodi 2',\n",
              " 'Kaprodi 3',\n",
              " 'Warek 2'}"
            ]
          },
          "metadata": {},
          "execution_count": 36
        }
      ]
    }
  ]
}