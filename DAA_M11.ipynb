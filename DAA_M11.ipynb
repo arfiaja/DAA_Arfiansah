{
  "nbformat": 4,
  "nbformat_minor": 0,
  "metadata": {
    "colab": {
      "provenance": []
    },
    "kernelspec": {
      "name": "python3",
      "display_name": "Python 3"
    },
    "language_info": {
      "name": "python"
    }
  },
  "cells": [
    {
      "cell_type": "code",
      "execution_count": 2,
      "metadata": {
        "id": "1Y-hE-Wk8Ps0"
      },
      "outputs": [],
      "source": [
        "#a-----b\n",
        "#/     /\n",
        "#/     /\n",
        "#c-----d-----e"
      ]
    },
    {
      "cell_type": "code",
      "source": [
        "# Create the dictionary with graph elements\n",
        "graph = { \"a\" : [\"b\",\"c\"],\n",
        "          \"b\" : [\"a\", \"d\"],\n",
        "          \"c\" : [\"a\", \"d\"],\n",
        "          \"d\" : [\"e\"],\n",
        "          \"e\" : [\"d\"]\n",
        "         }\n",
        "# Print the graph\n",
        "print(graph)"
      ],
      "metadata": {
        "colab": {
          "base_uri": "https://localhost:8080/"
        },
        "id": "AyFd_QY48oFC",
        "outputId": "8f4f7f0c-6975-4ff2-a795-4df608e1191c"
      },
      "execution_count": 1,
      "outputs": [
        {
          "output_type": "stream",
          "name": "stdout",
          "text": [
            "{'a': ['b', 'c'], 'b': ['a', 'd'], 'c': ['a', 'd'], 'd': ['e'], 'e': ['d']}\n"
          ]
        }
      ]
    },
    {
      "cell_type": "code",
      "source": [
        "graph = { \"T\" : [\"U\",\"W\"],\n",
        "          \"U\" : [\"T\", \"V\"],\n",
        "          \"V\" : [\"U\", \"X\"],\n",
        "          \"W\" : [\"T\", \"Z\", \"X\"],\n",
        "          \"X\" : [\"V\", \"W\", \"S\"],\n",
        "          \"Z\" : [\"W\"],\n",
        "          \"S\" : [\"X\"]\n",
        "         }\n",
        "# Print the graph\n",
        "print(graph)"
      ],
      "metadata": {
        "colab": {
          "base_uri": "https://localhost:8080/"
        },
        "id": "SJwq3Sko-OmG",
        "outputId": "ae8656ff-6220-4d7a-eed9-b82c2d771f40"
      },
      "execution_count": 11,
      "outputs": [
        {
          "output_type": "stream",
          "name": "stdout",
          "text": [
            "{'T': ['U', 'W'], 'U': ['T', 'V'], 'V': ['U', 'X'], 'W': ['T', 'Z', 'X'], 'X': ['V', 'W', 'S'], 'Z': ['W'], 'S': ['X']}\n"
          ]
        }
      ]
    },
    {
      "cell_type": "code",
      "source": [
        "graph = { \"R\" : [\"O\",\"L\"],\n",
        "          \"O\" : [\"R\", \"P\", \"M\"],\n",
        "          \"L\" : [\"R\", \"P\"],\n",
        "          \"P\" : [\"L\", \"N\", \"O\"],\n",
        "          \"N\" : [\"P\", \"M\"]\n",
        "         }\n",
        "# Print the graph\n",
        "print(graph)"
      ],
      "metadata": {
        "colab": {
          "base_uri": "https://localhost:8080/"
        },
        "id": "4qDD0LUzA4al",
        "outputId": "d17ef6c6-fdea-4a9f-82ad-1d785a4a0d0f"
      },
      "execution_count": 9,
      "outputs": [
        {
          "output_type": "stream",
          "name": "stdout",
          "text": [
            "{'R': ['O', 'L'], 'O': ['R', 'P', 'M'], 'L': ['R', 'P'], 'P': ['L', 'N', 'O'], 'N': ['P', 'M']}\n"
          ]
        }
      ]
    },
    {
      "cell_type": "code",
      "source": [
        " class graph:\n",
        "    def __init__(self,gdict=None):\n",
        "        if gdict is None:\n",
        "            gdict = []\n",
        "        self.gdict = gdict\n",
        "\n",
        "# Get the keys of the dictionary\n",
        "    def getVertices(self):\n",
        "        return list(self.gdict.keys())\n",
        "\n",
        "# Create the dictionary with graph elements\n",
        "graph_elements = { \"a\" : [\"b\",\"c\"],\n",
        "                \"b\" : [\"a\", \"d\"],\n",
        "                \"c\" : [\"a\", \"d\"],\n",
        "                \"d\" : [\"e\"],\n",
        "                \"e\" : [\"d\"]\n",
        "                }\n",
        "g = graph(graph_elements)\n",
        "\n",
        "print(g.getVertices())"
      ],
      "metadata": {
        "colab": {
          "base_uri": "https://localhost:8080/"
        },
        "id": "rmpgi5y9D9iM",
        "outputId": "87bc26d9-fca0-4446-ab8e-ac4746340cf3"
      },
      "execution_count": 14,
      "outputs": [
        {
          "output_type": "stream",
          "name": "stdout",
          "text": [
            "['a', 'b', 'c', 'd', 'e']\n"
          ]
        }
      ]
    },
    {
      "cell_type": "code",
      "source": [
        "class graph:\n",
        "    def __init__(self,gdict=None):\n",
        "        if gdict is None:\n",
        "            gdict = []\n",
        "        self.gdict = gdict\n",
        "\n",
        "# Get the keys of the dictionary\n",
        "    def getVertices(self):\n",
        "        return list(self.gdict.keys())\n",
        "\n",
        "# Create the dictionary with graph elements\n",
        "graph_elements = { \"T\" : [\"U\",\"W\"],\n",
        "          \"U\" : [\"T\", \"V\"],\n",
        "          \"V\" : [\"U\", \"X\"],\n",
        "          \"W\" : [\"T\", \"Z\", \"X\"],\n",
        "          \"X\" : [\"V\", \"W\", \"S\"],\n",
        "          \"Z\" : [\"W\"],\n",
        "          \"S\" : [\"X\"]\n",
        "         }\n",
        "g = graph(graph_elements)\n",
        "\n",
        "print(g.getVertices())"
      ],
      "metadata": {
        "colab": {
          "base_uri": "https://localhost:8080/"
        },
        "id": "NK80mdVkJTI-",
        "outputId": "56584132-e4b3-4796-d799-6c4a242da0bc"
      },
      "execution_count": 15,
      "outputs": [
        {
          "output_type": "stream",
          "name": "stdout",
          "text": [
            "['T', 'U', 'V', 'W', 'X', 'Z', 'S']\n"
          ]
        }
      ]
    },
    {
      "cell_type": "code",
      "source": [
        "class graph:\n",
        "    def __init__(self,gdict=None):\n",
        "        if gdict is None:\n",
        "            gdict = []\n",
        "        self.gdict = gdict\n",
        "\n",
        "# Get the keys of the dictionary\n",
        "    def getVertices(self):\n",
        "        return list(self.gdict.keys())\n",
        "\n",
        "# Create the dictionary with graph elements\n",
        "graph_elements =  { \"R\" : [\"O\",\"L\"],\n",
        "          \"O\" : [\"R\", \"P\", \"M\"],\n",
        "          \"L\" : [\"R\", \"P\"],\n",
        "          \"P\" : [\"L\", \"N\", \"O\"],\n",
        "          \"N\" : [\"P\", \"M\"]\n",
        "         }\n",
        "g = graph(graph_elements)\n",
        "\n",
        "print(g.getVertices())"
      ],
      "metadata": {
        "colab": {
          "base_uri": "https://localhost:8080/"
        },
        "id": "GBr_SsXYJfBY",
        "outputId": "72bfd054-09bd-4237-e2e7-a91262f576f8"
      },
      "execution_count": 16,
      "outputs": [
        {
          "output_type": "stream",
          "name": "stdout",
          "text": [
            "['R', 'O', 'L', 'P', 'N']\n"
          ]
        }
      ]
    },
    {
      "cell_type": "code",
      "source": [
        "class graph:\n",
        "    def __init__(self,gdict=None):\n",
        "        if gdict is None:\n",
        "            gdict = {}\n",
        "        self.gdict = gdict\n",
        "\n",
        "    def edges(self): \n",
        "        return self.findedges()\n",
        "\n",
        "#find the distinc list of edges\n",
        "    def findedges(self):\n",
        "        edgename = []\n",
        "        for vrtx in self.gdict:\n",
        "            for nxtvrtx in self.gdict[vrtx]:\n",
        "                if (nxtvrtx, vrtx) not in edgename:\n",
        "                    edgename.append({vrtx, nxtvrtx})\n",
        "        return edgename\n",
        "\n",
        "#create the dictionary with graph elements\n",
        "graph_elements = { \"a\" : [\"b\", \"c\"],\n",
        "                \"b\" : [\"a\", \"d\"],\n",
        "                \"c\" : [\"a\", \"d\"],\n",
        "                \"d\" : [\"e\"],\n",
        "                \"e\" : [\"d\"]\n",
        "                }\n",
        "\n",
        "g = graph(graph_elements)\n",
        "\n",
        "print(g.edges())"
      ],
      "metadata": {
        "colab": {
          "base_uri": "https://localhost:8080/"
        },
        "id": "Awa1dTn6J3Ck",
        "outputId": "6c967f4a-5fad-4771-bf45-ad1ad7b3cbc9"
      },
      "execution_count": 25,
      "outputs": [
        {
          "output_type": "stream",
          "name": "stdout",
          "text": [
            "[{'b', 'a'}, {'c', 'a'}, {'b', 'a'}, {'b', 'd'}, {'c', 'a'}, {'c', 'd'}, {'d', 'e'}, {'d', 'e'}]\n"
          ]
        }
      ]
    },
    {
      "cell_type": "code",
      "source": [
        "class graph:\n",
        "    def __init__(self,gdict=None):\n",
        "        if gdict is None:\n",
        "            gdict = {}\n",
        "        self.gdict = gdict\n",
        "\n",
        "    def edges(self): \n",
        "        return self.findedges()\n",
        "\n",
        "#find the distinc list of edges\n",
        "    def findedges(self):\n",
        "        edgename = []\n",
        "        for vrtx in self.gdict:\n",
        "            for nxtvrtx in self.gdict[vrtx]:\n",
        "              if (nxtvrtx, vrtx) not in edgename:\n",
        "                  edgename.append({vrtx, nxtvrtx})\n",
        "        return edgename\n",
        "\n",
        "#create the dictionary with graph elements\n",
        "graph_elements = { \"T\" : [\"U\",\"W\"],\n",
        "          \"U\" : [\"T\", \"V\"],\n",
        "          \"V\" : [\"U\", \"X\"],\n",
        "          \"W\" : [\"T\", \"Z\", \"X\"],\n",
        "          \"X\" : [\"V\", \"W\", \"S\"],\n",
        "          \"Z\" : [\"W\"],\n",
        "          \"S\" : [\"X\"]\n",
        "         }\n",
        "\n",
        "g = graph(graph_elements)\n",
        "\n",
        "print(g.edges())"
      ],
      "metadata": {
        "colab": {
          "base_uri": "https://localhost:8080/"
        },
        "id": "zRhMn7dbM7EG",
        "outputId": "774ce403-5c72-4b45-c717-341f43103d25"
      },
      "execution_count": 26,
      "outputs": [
        {
          "output_type": "stream",
          "name": "stdout",
          "text": [
            "[{'U', 'T'}, {'W', 'T'}, {'U', 'T'}, {'V', 'U'}, {'V', 'U'}, {'V', 'X'}, {'W', 'T'}, {'W', 'Z'}, {'W', 'X'}, {'V', 'X'}, {'W', 'X'}, {'S', 'X'}, {'W', 'Z'}, {'S', 'X'}]\n"
          ]
        }
      ]
    },
    {
      "cell_type": "code",
      "source": [
        "class graph:\n",
        "    def __init__(self,gdict=None):\n",
        "        if gdict is None:\n",
        "            gdict = {}\n",
        "        self.gdict = gdict\n",
        "\n",
        "    def edges(self): \n",
        "        return self.findedges()\n",
        "\n",
        "#find the distinc list of edges\n",
        "    def findedges(self):\n",
        "        edgename = []\n",
        "        for vrtx in self.gdict:\n",
        "            for nxtvrtx in self.gdict[vrtx]:\n",
        "              if (nxtvrtx, vrtx) not in edgename:\n",
        "                 edgename.append({vrtx, nxtvrtx})\n",
        "        return edgename\n",
        "\n",
        "#create the dictionary with graph elements\n",
        "graph_elements = { \"R\" : [\"O\",\"L\"],\n",
        "          \"O\" : [\"R\", \"P\", \"M\"],\n",
        "          \"L\" : [\"R\", \"P\"],\n",
        "          \"P\" : [\"L\", \"N\", \"O\"],\n",
        "          \"N\" : [\"P\", \"M\"]\n",
        "         }\n",
        "\n",
        "g = graph(graph_elements)\n",
        "\n",
        "print(g.edges())"
      ],
      "metadata": {
        "colab": {
          "base_uri": "https://localhost:8080/"
        },
        "id": "4wDtcAF8M-2L",
        "outputId": "2aa2829e-2b40-48e7-8858-ebeab9d46853"
      },
      "execution_count": 27,
      "outputs": [
        {
          "output_type": "stream",
          "name": "stdout",
          "text": [
            "[{'R', 'O'}, {'R', 'L'}, {'R', 'O'}, {'P', 'O'}, {'M', 'O'}, {'R', 'L'}, {'P', 'L'}, {'P', 'L'}, {'P', 'N'}, {'P', 'O'}, {'P', 'N'}, {'M', 'N'}]\n"
          ]
        }
      ]
    },
    {
      "cell_type": "code",
      "source": [
        "class graph:\n",
        "    def __init__(self,gdict=None):\n",
        "        if gdict is None:\n",
        "            gdict = {}\n",
        "        self.gdict = gdict\n",
        "\n",
        "    def getVertices(self):\n",
        "        return list(self.gdict.keys())\n",
        "\n",
        "#Add the vertex as a key\n",
        "    def addVertex(self, vrtx):\n",
        "       if vrtx not in self.gdict:\n",
        "            self.gdict[vrtx] = []\n",
        "\n",
        "#Create the dictionary with graph elements\n",
        "graph_elements = {\"a\" : [\"b\", \"c\"],\n",
        "         \"b\" : [\"a\", \"d\"],\n",
        "         \"c\" : [\"a\", \"d\"],\n",
        "         \"d\" : [\"e\"],\n",
        "         \"e\" : [\"d\"]\n",
        "         }\n",
        "\n",
        "\n",
        "g = graph(graph_elements)\n",
        "\n",
        "g.addVertex(\"f\")\n",
        "\n",
        "print(g.getVertices())"
      ],
      "metadata": {
        "colab": {
          "base_uri": "https://localhost:8080/"
        },
        "id": "aFOCmnKoQzxa",
        "outputId": "d9812ac2-ec21-4ef2-f49e-05cf0f0e4738"
      },
      "execution_count": 34,
      "outputs": [
        {
          "output_type": "stream",
          "name": "stdout",
          "text": [
            "['a', 'b', 'c', 'd', 'e', 'f']\n"
          ]
        }
      ]
    },
    {
      "cell_type": "code",
      "source": [],
      "metadata": {
        "id": "HBZYZMo4TVGP"
      },
      "execution_count": null,
      "outputs": []
    },
    {
      "cell_type": "code",
      "source": [
        "class graph:\n",
        "    def __init__(self,gdict=None):\n",
        "        if gdict is None:\n",
        "            gdict = {}\n",
        "        self.gdict = gdict\n",
        "\n",
        "    def edges(self): \n",
        "        return self.findedges()\n",
        "\n",
        "# Add the new edge\n",
        "    def AddEdge (self, edge):\n",
        "        edge = set(edge)\n",
        "        (vrtx1, vrtx2) = tuple(edge)\n",
        "        if vrtx1 in self.gdict:\n",
        "             self.gdict[vrtx1].append(vrtx2)\n",
        "        else:\n",
        "             self.gdict[vrtx1] + [vrtx2]\n",
        "\n",
        "# List the edge names\n",
        "    def findedges(self):\n",
        "        edgename = []\n",
        "        for vrtx in self.gdict:\n",
        "            for nxtvrtx in self.gdict[vrtx]:\n",
        "                if {nxtvrtx, vrtx} not in edgename:\n",
        "                    edgename.append({vrtx, nxtvrtx})\n",
        "        return edgename\n",
        "\n",
        "# Create the dictionary\n",
        "graph_elements = { \"a\" : [\"b\", \"c\"],\n",
        "                \"b\" : [\"a\", \"d\"],\n",
        "                \"c\" : [\"a\", \"d\"],\n",
        "                \"d\" : [\"e\"],\n",
        "                \"e\" : [\"d\"]\n",
        "                }\n",
        "g = graph(graph_elements)\n",
        "g.AddEdge({'a','e'})\n",
        "g.AddEdge({'a','e'})\n",
        "print(g.edges())"
      ],
      "metadata": {
        "colab": {
          "base_uri": "https://localhost:8080/"
        },
        "id": "1KdRNxHLOc2w",
        "outputId": "17f9917c-4c40-47f4-bc73-efaa01ec4727"
      },
      "execution_count": 30,
      "outputs": [
        {
          "output_type": "stream",
          "name": "stdout",
          "text": [
            "[{'b', 'a'}, {'c', 'a'}, {'b', 'd'}, {'c', 'd'}, {'d', 'e'}, {'a', 'e'}]\n"
          ]
        }
      ]
    }
  ]
}